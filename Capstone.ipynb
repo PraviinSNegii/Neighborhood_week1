{
 "cells": [
  {
   "cell_type": "markdown",
   "metadata": {},
   "source": [
    "### Capstone project"
   ]
  },
  {
   "cell_type": "markdown",
   "metadata": {},
   "source": [
    "#### Introduction"
   ]
  },
  {
   "cell_type": "markdown",
   "metadata": {},
   "source": [
    "<p>Mr Vikas Khanna is one of the famous restaurateurs in India. Now, since he is planning to move his base to Toronto, Canada, he wants to start his restaurant business in the city. With this exercise, we will try to find out the best possible location in the city.</p> "
   ]
  },
  {
   "cell_type": "markdown",
   "metadata": {},
   "source": [
    "#### Business problem "
   ]
  },
  {
   "cell_type": "markdown",
   "metadata": {},
   "source": [
    "Now, the problem with Mr Khanna is, he has to set up everything from the beginning. Though, he is an experienced restaurateur, doing business in a new city will not be easy task. He has to deal with restaurants doing good and existing from quite a while. However, data science techniques like clustering are already there to find solutions. "
   ]
  },
  {
   "cell_type": "markdown",
   "metadata": {},
   "source": [
    "#### Data"
   ]
  },
  {
   "cell_type": "markdown",
   "metadata": {},
   "source": [
    "<p> We will use the Foursquare API data to solve our business problem. Foursquare client ID and client Key will help us in accessing the data we would like to leverage for this analysis </p>\n",
    "\n",
    "We will use the publicly available census data of Toronto for the year 2016 and Foursquare API to collect business competitors with the neighbourhood location. \n",
    " \n",
    "Census data:  https://www.toronto.ca/city-government/data-research-maps/opendata/open-data-catalogue/#8c732154-5012-9afe-d0cd-ba3ffc813d5a \n",
    " \n",
    "Toronto neighbourhoodshapefile: https://www.toronto.ca/city-government/data-researchmaps/open-data/open-data-catalogue/#a45bd45a-ede8-730e-1abc-93105b2c439f "
   ]
  },
  {
   "cell_type": "markdown",
   "metadata": {},
   "source": [
    "#### Methodology"
   ]
  },
  {
   "cell_type": "markdown",
   "metadata": {},
   "source": [
    "To access the geographical locaiton we have used Foursquare API. Foursquare user's can access details of any of the listed venue using their CLIENT ID and CLIENT KEY. We will also use Folium library for data visualization; it is used to create maps. Folium will help us in locating accurate location of the restaurants we want to access. It will help Mr. Khanna to identify the locations of his closest competitors and best possible location to setup his restaurant business. We will also utilize JSON library to read and write the data in prescribed format. We will also utilize K-means clustering methodology to see customer segmentation, pattern recognition etc.\n",
    "\n",
    "In short following libraries are required to complete the excerise - \n",
    "\n",
    "1. Numpy\n",
    "2. Pandas\n",
    "3. Foursquare API\n",
    "4. JSON\n",
    "5. Scikit - K-means clustering\n",
    "6. Folium"
   ]
  },
  {
   "cell_type": "markdown",
   "metadata": {},
   "source": [
    "#### Results and Discussion"
   ]
  },
  {
   "cell_type": "markdown",
   "metadata": {},
   "source": [
    "We have got a sight of the venues in Down Town borough and able to find out some interesting insights which might be useful for Mr. Khanna. It will help him in taking decision to select a perfect location to open his restaurant. \n",
    " \n",
    "From the data analysis it can be seen that there are 89 unique venues. \n",
    " \n",
    "We have also identified the top 5 venues of CN Tower, King and Spadina, Railway Lands, Harbourfront West, Bathurst Quay, South Niagara, Island airport, which are in \n",
    "neighbourhood of Down Town borough. The most common places in these neighbourhood are pizza places and coffee shops.  \n",
    " \n",
    "Regent park, Harbourfront is the closest neighbourhood of Down Town borough with 1st m ost common venue is a Mexican restaurant followed by Medical centre and Bank at 2nd an d 3rd place respectively.   "
   ]
  },
  {
   "cell_type": "markdown",
   "metadata": {},
   "source": [
    "#### Conclusion "
   ]
  },
  {
   "cell_type": "markdown",
   "metadata": {},
   "source": [
    "We will need a location where we can catch out customers from \"hot\" location we have picked up from the map and stay in a certain distance so as to lessen the captivity of business. \n",
    "\n",
    "According cluster analysis Christie neighbourhood is the perfect area for Mr. Khanna to open his restaurant. The 1st most common venue is Park. We believe people who will visit the park are more likely to visit the restaurant. Hence, it will be an idle neighbourhood to open the restaurant. "
   ]
  },
  {
   "cell_type": "code",
   "execution_count": null,
   "metadata": {},
   "outputs": [],
   "source": []
  }
 ],
 "metadata": {
  "kernelspec": {
   "display_name": "Python 3",
   "language": "python",
   "name": "python3"
  },
  "language_info": {
   "codemirror_mode": {
    "name": "ipython",
    "version": 3
   },
   "file_extension": ".py",
   "mimetype": "text/x-python",
   "name": "python",
   "nbconvert_exporter": "python",
   "pygments_lexer": "ipython3",
   "version": "3.7.4"
  }
 },
 "nbformat": 4,
 "nbformat_minor": 2
}
